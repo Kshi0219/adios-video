{
 "cells": [
  {
   "cell_type": "markdown",
   "metadata": {},
   "source": [
    "### Possession 비율 그래프"
   ]
  },
  {
   "cell_type": "markdown",
   "metadata": {},
   "source": [
    "#### 1. 필요 라이브러리 & 데이터 불러오기"
   ]
  },
  {
   "cell_type": "code",
   "execution_count": 10,
   "metadata": {},
   "outputs": [],
   "source": [
    "import pickle\n",
    "import pandas as pd\n",
    "import matplotlib.pyplot as plt\n",
    "import numpy as np\n",
    "from mplsoccer.pitch import Pitch\n",
    "import matplotlib.patches as patches\n",
    "\n",
    "# 한글 오류\n",
    "import matplotlib\n",
    "matplotlib.rcParams['font.family'] ='Malgun Gothic'\n",
    "matplotlib.rcParams['axes.unicode_minus'] =False"
   ]
  },
  {
   "cell_type": "code",
   "execution_count": 11,
   "metadata": {},
   "outputs": [
    {
     "data": {
      "text/html": [
       "<div>\n",
       "<style scoped>\n",
       "    .dataframe tbody tr th:only-of-type {\n",
       "        vertical-align: middle;\n",
       "    }\n",
       "\n",
       "    .dataframe tbody tr th {\n",
       "        vertical-align: top;\n",
       "    }\n",
       "\n",
       "    .dataframe thead th {\n",
       "        text-align: right;\n",
       "    }\n",
       "</style>\n",
       "<table border=\"1\" class=\"dataframe\">\n",
       "  <thead>\n",
       "    <tr style=\"text-align: right;\">\n",
       "      <th></th>\n",
       "      <th>player_id</th>\n",
       "      <th>team</th>\n",
       "      <th>has_ball</th>\n",
       "      <th>kr_name</th>\n",
       "      <th>bbox_x1</th>\n",
       "      <th>bbox_y1</th>\n",
       "      <th>bbox_x2</th>\n",
       "      <th>bbox_y2</th>\n",
       "    </tr>\n",
       "  </thead>\n",
       "  <tbody>\n",
       "    <tr>\n",
       "      <th>0</th>\n",
       "      <td>OJY</td>\n",
       "      <td>1</td>\n",
       "      <td>True</td>\n",
       "      <td>오지영</td>\n",
       "      <td>848.676147</td>\n",
       "      <td>254.649963</td>\n",
       "      <td>999.746338</td>\n",
       "      <td>504.151428</td>\n",
       "    </tr>\n",
       "    <tr>\n",
       "      <th>1</th>\n",
       "      <td>SMJ</td>\n",
       "      <td>1</td>\n",
       "      <td>False</td>\n",
       "      <td>손명준</td>\n",
       "      <td>279.895325</td>\n",
       "      <td>97.888031</td>\n",
       "      <td>357.484161</td>\n",
       "      <td>327.861938</td>\n",
       "    </tr>\n",
       "    <tr>\n",
       "      <th>2</th>\n",
       "      <td>KSW</td>\n",
       "      <td>1</td>\n",
       "      <td>False</td>\n",
       "      <td>김성욱</td>\n",
       "      <td>483.955444</td>\n",
       "      <td>90.242813</td>\n",
       "      <td>542.665527</td>\n",
       "      <td>220.719711</td>\n",
       "    </tr>\n",
       "    <tr>\n",
       "      <th>3</th>\n",
       "      <td>SDG</td>\n",
       "      <td>1</td>\n",
       "      <td>False</td>\n",
       "      <td>신대근</td>\n",
       "      <td>895.455933</td>\n",
       "      <td>161.566589</td>\n",
       "      <td>974.598022</td>\n",
       "      <td>312.147797</td>\n",
       "    </tr>\n",
       "    <tr>\n",
       "      <th>4</th>\n",
       "      <td>SHW</td>\n",
       "      <td>0</td>\n",
       "      <td>False</td>\n",
       "      <td>서한울</td>\n",
       "      <td>326.304718</td>\n",
       "      <td>235.089401</td>\n",
       "      <td>406.512360</td>\n",
       "      <td>451.280579</td>\n",
       "    </tr>\n",
       "    <tr>\n",
       "      <th>...</th>\n",
       "      <td>...</td>\n",
       "      <td>...</td>\n",
       "      <td>...</td>\n",
       "      <td>...</td>\n",
       "      <td>...</td>\n",
       "      <td>...</td>\n",
       "      <td>...</td>\n",
       "      <td>...</td>\n",
       "    </tr>\n",
       "    <tr>\n",
       "      <th>9627</th>\n",
       "      <td>SMJ</td>\n",
       "      <td>1</td>\n",
       "      <td>False</td>\n",
       "      <td>손명준</td>\n",
       "      <td>560.619324</td>\n",
       "      <td>182.539291</td>\n",
       "      <td>627.530457</td>\n",
       "      <td>343.382141</td>\n",
       "    </tr>\n",
       "    <tr>\n",
       "      <th>9628</th>\n",
       "      <td>KYS</td>\n",
       "      <td>0</td>\n",
       "      <td>False</td>\n",
       "      <td>가윤성</td>\n",
       "      <td>690.812683</td>\n",
       "      <td>136.451675</td>\n",
       "      <td>746.687439</td>\n",
       "      <td>269.790375</td>\n",
       "    </tr>\n",
       "    <tr>\n",
       "      <th>9629</th>\n",
       "      <td>OJY</td>\n",
       "      <td>1</td>\n",
       "      <td>False</td>\n",
       "      <td>오지영</td>\n",
       "      <td>23.902245</td>\n",
       "      <td>237.278000</td>\n",
       "      <td>124.417290</td>\n",
       "      <td>404.449188</td>\n",
       "    </tr>\n",
       "    <tr>\n",
       "      <th>9630</th>\n",
       "      <td>SDG</td>\n",
       "      <td>1</td>\n",
       "      <td>False</td>\n",
       "      <td>신대근</td>\n",
       "      <td>380.786072</td>\n",
       "      <td>189.538803</td>\n",
       "      <td>441.598999</td>\n",
       "      <td>370.852539</td>\n",
       "    </tr>\n",
       "    <tr>\n",
       "      <th>9631</th>\n",
       "      <td>KSI</td>\n",
       "      <td>0</td>\n",
       "      <td>False</td>\n",
       "      <td>김성일</td>\n",
       "      <td>413.505829</td>\n",
       "      <td>175.867935</td>\n",
       "      <td>459.806824</td>\n",
       "      <td>301.935425</td>\n",
       "    </tr>\n",
       "  </tbody>\n",
       "</table>\n",
       "<p>9632 rows × 8 columns</p>\n",
       "</div>"
      ],
      "text/plain": [
       "     player_id  team  has_ball kr_name     bbox_x1     bbox_y1     bbox_x2  \\\n",
       "0          OJY     1      True     오지영  848.676147  254.649963  999.746338   \n",
       "1          SMJ     1     False     손명준  279.895325   97.888031  357.484161   \n",
       "2          KSW     1     False     김성욱  483.955444   90.242813  542.665527   \n",
       "3          SDG     1     False     신대근  895.455933  161.566589  974.598022   \n",
       "4          SHW     0     False     서한울  326.304718  235.089401  406.512360   \n",
       "...        ...   ...       ...     ...         ...         ...         ...   \n",
       "9627       SMJ     1     False     손명준  560.619324  182.539291  627.530457   \n",
       "9628       KYS     0     False     가윤성  690.812683  136.451675  746.687439   \n",
       "9629       OJY     1     False     오지영   23.902245  237.278000  124.417290   \n",
       "9630       SDG     1     False     신대근  380.786072  189.538803  441.598999   \n",
       "9631       KSI     0     False     김성일  413.505829  175.867935  459.806824   \n",
       "\n",
       "         bbox_y2  \n",
       "0     504.151428  \n",
       "1     327.861938  \n",
       "2     220.719711  \n",
       "3     312.147797  \n",
       "4     451.280579  \n",
       "...          ...  \n",
       "9627  343.382141  \n",
       "9628  269.790375  \n",
       "9629  404.449188  \n",
       "9630  370.852539  \n",
       "9631  301.935425  \n",
       "\n",
       "[9632 rows x 8 columns]"
      ]
     },
     "execution_count": 11,
     "metadata": {},
     "output_type": "execute_result"
    }
   ],
   "source": [
    "player_data = pd.read_csv(r\"C:\\krpython\\adios-video\\adios-video\\Kyungran\\player_data.csv\", index_col=0)\n",
    "player_data"
   ]
  },
  {
   "cell_type": "code",
   "execution_count": 12,
   "metadata": {},
   "outputs": [
    {
     "data": {
      "text/html": [
       "<div>\n",
       "<style scoped>\n",
       "    .dataframe tbody tr th:only-of-type {\n",
       "        vertical-align: middle;\n",
       "    }\n",
       "\n",
       "    .dataframe tbody tr th {\n",
       "        vertical-align: top;\n",
       "    }\n",
       "\n",
       "    .dataframe thead th {\n",
       "        text-align: right;\n",
       "    }\n",
       "</style>\n",
       "<table border=\"1\" class=\"dataframe\">\n",
       "  <thead>\n",
       "    <tr style=\"text-align: right;\">\n",
       "      <th></th>\n",
       "      <th>player_id</th>\n",
       "      <th>team</th>\n",
       "      <th>has_ball</th>\n",
       "      <th>kr_name</th>\n",
       "      <th>bbox_x1</th>\n",
       "      <th>bbox_y1</th>\n",
       "      <th>bbox_x2</th>\n",
       "      <th>bbox_y2</th>\n",
       "    </tr>\n",
       "  </thead>\n",
       "  <tbody>\n",
       "    <tr>\n",
       "      <th>0</th>\n",
       "      <td>OJY</td>\n",
       "      <td>1</td>\n",
       "      <td>True</td>\n",
       "      <td>오지영</td>\n",
       "      <td>848.676147</td>\n",
       "      <td>254.649963</td>\n",
       "      <td>999.746338</td>\n",
       "      <td>504.151428</td>\n",
       "    </tr>\n",
       "    <tr>\n",
       "      <th>8</th>\n",
       "      <td>OJY</td>\n",
       "      <td>1</td>\n",
       "      <td>True</td>\n",
       "      <td>오지영</td>\n",
       "      <td>853.333923</td>\n",
       "      <td>256.160553</td>\n",
       "      <td>1003.642334</td>\n",
       "      <td>504.065369</td>\n",
       "    </tr>\n",
       "    <tr>\n",
       "      <th>16</th>\n",
       "      <td>OJY</td>\n",
       "      <td>1</td>\n",
       "      <td>True</td>\n",
       "      <td>오지영</td>\n",
       "      <td>855.155640</td>\n",
       "      <td>256.869446</td>\n",
       "      <td>1009.156189</td>\n",
       "      <td>510.257690</td>\n",
       "    </tr>\n",
       "    <tr>\n",
       "      <th>24</th>\n",
       "      <td>OJY</td>\n",
       "      <td>1</td>\n",
       "      <td>True</td>\n",
       "      <td>오지영</td>\n",
       "      <td>857.745728</td>\n",
       "      <td>260.070618</td>\n",
       "      <td>1016.403748</td>\n",
       "      <td>520.100830</td>\n",
       "    </tr>\n",
       "    <tr>\n",
       "      <th>32</th>\n",
       "      <td>OJY</td>\n",
       "      <td>1</td>\n",
       "      <td>True</td>\n",
       "      <td>오지영</td>\n",
       "      <td>862.458252</td>\n",
       "      <td>262.111481</td>\n",
       "      <td>1022.559448</td>\n",
       "      <td>523.347595</td>\n",
       "    </tr>\n",
       "    <tr>\n",
       "      <th>...</th>\n",
       "      <td>...</td>\n",
       "      <td>...</td>\n",
       "      <td>...</td>\n",
       "      <td>...</td>\n",
       "      <td>...</td>\n",
       "      <td>...</td>\n",
       "      <td>...</td>\n",
       "      <td>...</td>\n",
       "    </tr>\n",
       "    <tr>\n",
       "      <th>9593</th>\n",
       "      <td>KDW</td>\n",
       "      <td>0</td>\n",
       "      <td>True</td>\n",
       "      <td>강동욱</td>\n",
       "      <td>862.002075</td>\n",
       "      <td>211.439011</td>\n",
       "      <td>954.548218</td>\n",
       "      <td>443.666687</td>\n",
       "    </tr>\n",
       "    <tr>\n",
       "      <th>9601</th>\n",
       "      <td>KDW</td>\n",
       "      <td>0</td>\n",
       "      <td>True</td>\n",
       "      <td>강동욱</td>\n",
       "      <td>869.020813</td>\n",
       "      <td>210.086517</td>\n",
       "      <td>961.985657</td>\n",
       "      <td>440.599579</td>\n",
       "    </tr>\n",
       "    <tr>\n",
       "      <th>9609</th>\n",
       "      <td>KDW</td>\n",
       "      <td>0</td>\n",
       "      <td>True</td>\n",
       "      <td>강동욱</td>\n",
       "      <td>870.485901</td>\n",
       "      <td>205.159622</td>\n",
       "      <td>965.886597</td>\n",
       "      <td>439.252045</td>\n",
       "    </tr>\n",
       "    <tr>\n",
       "      <th>9617</th>\n",
       "      <td>KDW</td>\n",
       "      <td>0</td>\n",
       "      <td>True</td>\n",
       "      <td>강동욱</td>\n",
       "      <td>867.890015</td>\n",
       "      <td>197.848587</td>\n",
       "      <td>967.339233</td>\n",
       "      <td>437.722687</td>\n",
       "    </tr>\n",
       "    <tr>\n",
       "      <th>9625</th>\n",
       "      <td>KDW</td>\n",
       "      <td>0</td>\n",
       "      <td>True</td>\n",
       "      <td>강동욱</td>\n",
       "      <td>868.941406</td>\n",
       "      <td>193.540451</td>\n",
       "      <td>970.610962</td>\n",
       "      <td>434.686188</td>\n",
       "    </tr>\n",
       "  </tbody>\n",
       "</table>\n",
       "<p>804 rows × 8 columns</p>\n",
       "</div>"
      ],
      "text/plain": [
       "     player_id  team  has_ball kr_name     bbox_x1     bbox_y1      bbox_x2  \\\n",
       "0          OJY     1      True     오지영  848.676147  254.649963   999.746338   \n",
       "8          OJY     1      True     오지영  853.333923  256.160553  1003.642334   \n",
       "16         OJY     1      True     오지영  855.155640  256.869446  1009.156189   \n",
       "24         OJY     1      True     오지영  857.745728  260.070618  1016.403748   \n",
       "32         OJY     1      True     오지영  862.458252  262.111481  1022.559448   \n",
       "...        ...   ...       ...     ...         ...         ...          ...   \n",
       "9593       KDW     0      True     강동욱  862.002075  211.439011   954.548218   \n",
       "9601       KDW     0      True     강동욱  869.020813  210.086517   961.985657   \n",
       "9609       KDW     0      True     강동욱  870.485901  205.159622   965.886597   \n",
       "9617       KDW     0      True     강동욱  867.890015  197.848587   967.339233   \n",
       "9625       KDW     0      True     강동욱  868.941406  193.540451   970.610962   \n",
       "\n",
       "         bbox_y2  \n",
       "0     504.151428  \n",
       "8     504.065369  \n",
       "16    510.257690  \n",
       "24    520.100830  \n",
       "32    523.347595  \n",
       "...          ...  \n",
       "9593  443.666687  \n",
       "9601  440.599579  \n",
       "9609  439.252045  \n",
       "9617  437.722687  \n",
       "9625  434.686188  \n",
       "\n",
       "[804 rows x 8 columns]"
      ]
     },
     "execution_count": 12,
     "metadata": {},
     "output_type": "execute_result"
    }
   ],
   "source": [
    "# 공 갖고 있는 사람에 대해서만 필터\n",
    "player_data = player_data[player_data['has_ball'] == True]\n",
    "player_data"
   ]
  },
  {
   "cell_type": "markdown",
   "metadata": {},
   "source": [
    "#### 2. 데이터 전처리"
   ]
  },
  {
   "cell_type": "markdown",
   "metadata": {},
   "source": [
    "##### 1) 좌표 중앙값 계산"
   ]
  },
  {
   "cell_type": "code",
   "execution_count": 13,
   "metadata": {},
   "outputs": [
    {
     "name": "stderr",
     "output_type": "stream",
     "text": [
      "C:\\Users\\Playdata\\AppData\\Local\\Temp\\ipykernel_10032\\860318391.py:1: SettingWithCopyWarning: \n",
      "A value is trying to be set on a copy of a slice from a DataFrame.\n",
      "Try using .loc[row_indexer,col_indexer] = value instead\n",
      "\n",
      "See the caveats in the documentation: https://pandas.pydata.org/pandas-docs/stable/user_guide/indexing.html#returning-a-view-versus-a-copy\n",
      "  player_data['x'] = (player_data['bbox_x1'] + player_data['bbox_x2']) /2  # 세로\n",
      "C:\\Users\\Playdata\\AppData\\Local\\Temp\\ipykernel_10032\\860318391.py:2: SettingWithCopyWarning: \n",
      "A value is trying to be set on a copy of a slice from a DataFrame.\n",
      "Try using .loc[row_indexer,col_indexer] = value instead\n",
      "\n",
      "See the caveats in the documentation: https://pandas.pydata.org/pandas-docs/stable/user_guide/indexing.html#returning-a-view-versus-a-copy\n",
      "  player_data['y'] = (player_data['bbox_y1'] + player_data['bbox_y2']) / 2 # 가로\n"
     ]
    }
   ],
   "source": [
    "player_data['x'] = (player_data['bbox_x1'] + player_data['bbox_x2']) /2  # 세로\n",
    "player_data['y'] = (player_data['bbox_y1'] + player_data['bbox_y2']) / 2 # 가로"
   ]
  },
  {
   "cell_type": "markdown",
   "metadata": {},
   "source": [
    "##### 2) 팀 구분 짓기"
   ]
  },
  {
   "cell_type": "code",
   "execution_count": 14,
   "metadata": {},
   "outputs": [],
   "source": [
    "# 팀 구분\n",
    "team_a = player_data[player_data['team']==0]\n",
    "team_b = player_data[player_data['team']==1]"
   ]
  },
  {
   "cell_type": "markdown",
   "metadata": {},
   "source": [
    "##### 3) 영역 지정"
   ]
  },
  {
   "cell_type": "code",
   "execution_count": 15,
   "metadata": {},
   "outputs": [
    {
     "name": "stderr",
     "output_type": "stream",
     "text": [
      "C:\\Users\\Playdata\\AppData\\Local\\Temp\\ipykernel_10032\\1260715687.py:3: SettingWithCopyWarning: \n",
      "A value is trying to be set on a copy of a slice from a DataFrame.\n",
      "Try using .loc[row_indexer,col_indexer] = value instead\n",
      "\n",
      "See the caveats in the documentation: https://pandas.pydata.org/pandas-docs/stable/user_guide/indexing.html#returning-a-view-versus-a-copy\n",
      "  team_a['region_y'] = pd.cut(team_a['y'], bins = [0, 200, 400, 600], labels=['Left Side', 'Middle', 'Right Side'])\n",
      "C:\\Users\\Playdata\\AppData\\Local\\Temp\\ipykernel_10032\\1260715687.py:6: SettingWithCopyWarning: \n",
      "A value is trying to be set on a copy of a slice from a DataFrame.\n",
      "Try using .loc[row_indexer,col_indexer] = value instead\n",
      "\n",
      "See the caveats in the documentation: https://pandas.pydata.org/pandas-docs/stable/user_guide/indexing.html#returning-a-view-versus-a-copy\n",
      "  team_b['region_y'] = pd.cut(team_b['y'], bins = [0, 200, 400, 600], labels=['Right Side', 'Middle', 'Left Side'])\n"
     ]
    }
   ],
   "source": [
    "# 가로 기준 시각화\n",
    "# team a 영역 지정\n",
    "team_a['region_y'] = pd.cut(team_a['y'], bins = [0, 200, 400, 600], labels=['Left Side', 'Middle', 'Right Side'])\n",
    "\n",
    "# team b 영역 지정\n",
    "team_b['region_y'] = pd.cut(team_b['y'], bins = [0, 200, 400, 600], labels=['Right Side', 'Middle', 'Left Side'])"
   ]
  },
  {
   "cell_type": "code",
   "execution_count": 16,
   "metadata": {},
   "outputs": [
    {
     "name": "stderr",
     "output_type": "stream",
     "text": [
      "C:\\Users\\Playdata\\AppData\\Local\\Temp\\ipykernel_10032\\559545915.py:3: SettingWithCopyWarning: \n",
      "A value is trying to be set on a copy of a slice from a DataFrame.\n",
      "Try using .loc[row_indexer,col_indexer] = value instead\n",
      "\n",
      "See the caveats in the documentation: https://pandas.pydata.org/pandas-docs/stable/user_guide/indexing.html#returning-a-view-versus-a-copy\n",
      "  team_a['region_x'] = pd.cut(team_a['x'], bins=[0, 420, 840, 1260], labels=['Deffensive', 'Middle', 'Offensive'])\n",
      "C:\\Users\\Playdata\\AppData\\Local\\Temp\\ipykernel_10032\\559545915.py:6: SettingWithCopyWarning: \n",
      "A value is trying to be set on a copy of a slice from a DataFrame.\n",
      "Try using .loc[row_indexer,col_indexer] = value instead\n",
      "\n",
      "See the caveats in the documentation: https://pandas.pydata.org/pandas-docs/stable/user_guide/indexing.html#returning-a-view-versus-a-copy\n",
      "  team_b['region_x'] = pd.cut(team_b['x'], bins=[0, 420, 840, 1260], labels=['Offensive', 'Middle', 'Deffensive'])\n"
     ]
    }
   ],
   "source": [
    "# 세로 기준 시각화\n",
    "# team a 영역 지정\n",
    "team_a['region_x'] = pd.cut(team_a['x'], bins=[0, 420, 840, 1260], labels=['Deffensive', 'Middle', 'Offensive'])\n",
    "\n",
    "# team b 영역 지정\n",
    "team_b['region_x'] = pd.cut(team_b['x'], bins=[0, 420, 840, 1260], labels=['Offensive', 'Middle', 'Deffensive'])"
   ]
  },
  {
   "cell_type": "markdown",
   "metadata": {},
   "source": [
    "##### 4) 팀 영역별 비율 계산"
   ]
  },
  {
   "cell_type": "code",
   "execution_count": 17,
   "metadata": {},
   "outputs": [
    {
     "name": "stdout",
     "output_type": "stream",
     "text": [
      "region_y\n",
      "Left Side     13.986014\n",
      "Middle        76.223776\n",
      "Right Side     9.790210\n",
      "Name: proportion, dtype: float64\n",
      "---\n",
      "region_y\n",
      "Right Side    25.071225\n",
      "Middle        70.655271\n",
      "Left Side      4.273504\n",
      "Name: proportion, dtype: float64\n"
     ]
    }
   ],
   "source": [
    "# 가로 기준 \n",
    "team_a_distribution_y = team_a['region_y'].value_counts(normalize=True)*100 # 영역 비율 계산\n",
    "team_a_distribution_y = team_a_distribution_y.reindex(['Left Side', 'Middle', 'Right Side']) # 위치 고정\n",
    "\n",
    "team_b_distribution_y = team_b['region_y'].value_counts(normalize=True)*100\n",
    "team_b_distribution_y = team_b_distribution_y.reindex(['Right Side', 'Middle', 'Left Side'])\n",
    "\n",
    "print(team_a_distribution_y)\n",
    "print('---')\n",
    "print(team_b_distribution_y)"
   ]
  },
  {
   "cell_type": "code",
   "execution_count": 18,
   "metadata": {},
   "outputs": [
    {
     "name": "stdout",
     "output_type": "stream",
     "text": [
      "region_x\n",
      "Deffensive    18.881119\n",
      "Middle        62.587413\n",
      "Offensive     18.531469\n",
      "Name: proportion, dtype: float64\n",
      "---\n",
      "region_x\n",
      "Offensive     26.210826\n",
      "Middle        37.606838\n",
      "Deffensive    36.182336\n",
      "Name: proportion, dtype: float64\n"
     ]
    }
   ],
   "source": [
    "# 세로 기준 \n",
    "team_a_distribution_x = team_a['region_x'].value_counts(normalize=True)*100 # 영역 비율 계산\n",
    "team_a_distribution_x = team_a_distribution_x.reindex(['Deffensive', 'Middle', 'Offensive']) \n",
    "\n",
    "# 위치 고정\n",
    "team_b_distribution_x = team_b['region_x'].value_counts(normalize=True)*100\n",
    "team_b_distribution_x = team_b_distribution_x.reindex(['Offensive', 'Middle', 'Deffensive'])\n",
    "\n",
    "print(team_a_distribution_x)\n",
    "print('---')\n",
    "print(team_b_distribution_x)"
   ]
  },
  {
   "cell_type": "code",
   "execution_count": 73,
   "metadata": {},
   "outputs": [
    {
     "data": {
      "text/plain": [
       "Text(0.7, 1, 'TEAM B')"
      ]
     },
     "execution_count": 73,
     "metadata": {},
     "output_type": "execute_result"
    },
    {
     "data": {
      "image/png": "[encoded data removed]",
      "text/plain": [
       "<Figure size 800x400 with 1 Axes>"
      ]
     },
     "metadata": {},
     "output_type": "display_data"
    }
   ],
   "source": [
    "# 축구장 시각화 설정\n",
    "fig, ax = plt.subplots(figsize=(8, 4))\n",
    "fig.set_facecolor('#FFFFFF')\n",
    "pitch = Pitch(pitch_type='statsbomb')\n",
    "\n",
    "# 각 축구장 그리기\n",
    "pitch.draw(ax)\n",
    "\n",
    "# 막대 너비 및 최대 길이 설정\n",
    "bar_height = 15\n",
    "max_length = 50  # 막대 최대 길이 설정\n",
    "bar_spacing = 27  # 막대 간격 축소\n",
    "\n",
    "\n",
    "# team_a 막대 그래프 그리기\n",
    "for idx, (region, value) in enumerate(team_a_distribution_y.items()):\n",
    "    if value > 0 or region in ['Left Side', 'Right Side', 'Middle']:\n",
    "        y_start = 13 + (idx * bar_spacing)  # 막대 시작 위치 y 좌표\n",
    "        #y_start = 10 + (idx * 30)  # 막대 시작 위치 y 좌표\n",
    "        length = (value / 100) * max_length  # 막대 길이 설정\n",
    "        ax.barh(y_start, length, height=bar_height, left=60, color='#E7F0DC',) #edgecolor='black')  # 막대 그리기 left : x좌표 이동\n",
    "        ax.text(8, y_start, region, color='black',  va='center', horizontalalignment='left', fontsize=10)  # 범위 텍스트\n",
    "        ax.text(61, y_start, f'{value:.1f}%', color='black', va='center', fontsize=11, weight='bold')  # 비율 텍스트\n",
    "        if idx < len(team_a_distribution_y) - 1:\n",
    "            ax.axhline(y=y_start + 13, xmin=0.05, xmax=0.96, color='#BCBCBC', linestyle='--')\n",
    "\n",
    "# team_b 막대 그래프 그리기\n",
    "for idx, (region, value) in enumerate(team_b_distribution_y.items()):\n",
    "    if value > 0 or region in ['Right Side', 'Left Side', 'Middle']:\n",
    "        y_start = 13 + (idx * bar_spacing)  # 막대 시작 위치 y 좌표\n",
    "        #y_start = 10 + (idx * 30)  # 막대 시작 위치 y 좌표\n",
    "        length = (value / 100) * max_length  # 막대 길이 설정\n",
    "        ax.barh(y_start, -length, height=bar_height, left=60, color='#B5C18E',)  # 막대 그리기\n",
    "        ax.text(115, y_start, region, color='black', va='center', horizontalalignment='right', fontsize=10)  # 범위 텍스트\n",
    "        ax.text(44 , y_start, f'{value:.1f}%', color='black', va='center', fontsize=11, weight='bold')  # 비율 텍스트\n",
    "             \n",
    "plt.title('구역별 점유율\\n', fontsize=13 )\n",
    "ax.text(0.3, 1, 'TEAM A', transform=ax.transAxes, fontsize=11, ha='center')\n",
    "ax.text(0.7, 1, 'TEAM B', transform=ax.transAxes, fontsize=11, ha='center')"
   ]
  },
  {
   "cell_type": "code",
   "execution_count": 68,
   "metadata": {},
   "outputs": [
    {
     "data": {
      "text/plain": [
       "Text(100, 85, 'Away Third')"
      ]
     },
     "execution_count": 68,
     "metadata": {},
     "output_type": "execute_result"
    },
    {
     "data": {
      "image/png": "[encoded data removed]",
      "text/plain": [
       "<Figure size 800x400 with 1 Axes>"
      ]
     },
     "metadata": {},
     "output_type": "display_data"
    }
   ],
   "source": [
    "## 2번째 subplot \n",
    "\n",
    "fig, ax = plt.subplots(figsize=(8,4))\n",
    "pitch = Pitch(pitch_type='statsbomb')\n",
    "pitch.draw(ax)\n",
    "\n",
    "\n",
    "# 축구장의 y축 범위를 설정하여 하단에 맞추기\n",
    "ax.set_ylim(-5, 85)\n",
    "\n",
    "# 막대 너비 및 최대 길이 설정\n",
    "bar_width = 12\n",
    "max_length = 70  # 막대 최대 길이 설정\n",
    "bar_spacing = 40  # 막대 간격 축소\n",
    "base_line = 20  # 기준선 설정 (축구장의 하단에 맞추기 위해 Y 좌표를 사용)\n",
    "\n",
    "# 팀 A 막대 그래프 그리기\n",
    "for idx, (region, value) in enumerate(team_a_distribution_x.items()):\n",
    "    if value > 0 or region in ['Deffensive', 'Offensive Side', 'Middle']:\n",
    "        x_start = base_line + (idx * bar_spacing)  # 막대 시작 위치 x 좌표\n",
    "        length = (value / 100) * max_length  # 막대 길이 설정\n",
    "        ax.bar(x_start - bar_width, length, width=bar_width, bottom=0, color='#E7F0DC', align='edge')  # 막대 그리기\n",
    "        ax.text(x_start - bar_width / 2, length + 1, f'{value:.1f}%', color='black', ha='center', va='bottom', fontsize=12,  weight='bold')  # 비율 텍스트\n",
    "        if idx < len(team_a_distribution_x) -1:\n",
    "            ax.axvline(x=x_start + bar_width + 7, color='#BCBCBC', linestyle='--', ymin=0.06, ymax=0.95)\n",
    "\n",
    "# 팀 B 막대 그래프 그리기\n",
    "for idx, (region, value) in enumerate(team_b_distribution_x.items()):\n",
    "    if value > 0:\n",
    "        x_start = base_line + (idx * bar_spacing)  # 막대 시작 위치 x 좌표\n",
    "        length = (value / 100) * max_length  # 막대 길이 설정\n",
    "        ax.bar(x_start, length, width=bar_width, bottom=0, color='#B5C18E', align='edge')  # 막대 그리기\n",
    "        ax.text(x_start + bar_width / 2, length + 1, f'{value:.1f}%', color='black', ha='center', va='bottom', fontsize=12, weight='bold')  # 비율 텍스트\n",
    "\n",
    "\n",
    "# subplot 제목 추가\n",
    "ax.set_title('활동 구역', fontsize=13, color='black', pad=15)\n",
    "\n",
    "# 활동 구역 텍스트 추가\n",
    "ax.text(20, 85, \"Home Third\", ha='center', va='center', fontsize=11, color='black')\n",
    "ax.text(60, 85, \"Middle Third\", ha='center', va='center', fontsize=11, color='black')\n",
    "ax.text(100, 85, \"Away Third\", ha='center', va='center', fontsize=11, color='black',)"
   ]
  },
  {
   "cell_type": "code",
   "execution_count": null,
   "metadata": {},
   "outputs": [],
   "source": []
  }
 ],
 "metadata": {
  "kernelspec": {
   "display_name": "base",
   "language": "python",
   "name": "python3"
  },
  "language_info": {
   "codemirror_mode": {
    "name": "ipython",
    "version": 3
   },
   "file_extension": ".py",
   "mimetype": "text/x-python",
   "name": "python",
   "nbconvert_exporter": "python",
   "pygments_lexer": "ipython3",
   "version": "3.11.7"
  }
 },
 "nbformat": 4,
 "nbformat_minor": 2
}
